{
 "cells": [
  {
   "cell_type": "markdown",
   "metadata": {},
   "source": [
    "# Sebaorn Barplot / Bar Graph"
   ]
  },
  {
   "cell_type": "code",
   "execution_count": 1,
   "metadata": {},
   "outputs": [],
   "source": [
    "# Import libraries\n",
    "import pandas as pd # for data analysis\n",
    "import seaborn as sns # for data visualization\n",
    "import numpy as np # for numeric computing\n",
    "import matplotlib.pyplot as plt"
   ]
  },
  {
   "cell_type": "code",
   "execution_count": 2,
   "metadata": {
    "scrolled": true
   },
   "outputs": [
    {
     "data": {
      "text/html": [
       "<div>\n",
       "<style scoped>\n",
       "    .dataframe tbody tr th:only-of-type {\n",
       "        vertical-align: middle;\n",
       "    }\n",
       "\n",
       "    .dataframe tbody tr th {\n",
       "        vertical-align: top;\n",
       "    }\n",
       "\n",
       "    .dataframe thead th {\n",
       "        text-align: right;\n",
       "    }\n",
       "</style>\n",
       "<table border=\"1\" class=\"dataframe\">\n",
       "  <thead>\n",
       "    <tr style=\"text-align: right;\">\n",
       "      <th></th>\n",
       "      <th>total_bill</th>\n",
       "      <th>tip</th>\n",
       "      <th>sex</th>\n",
       "      <th>smoker</th>\n",
       "      <th>day</th>\n",
       "      <th>time</th>\n",
       "      <th>size</th>\n",
       "    </tr>\n",
       "  </thead>\n",
       "  <tbody>\n",
       "    <tr>\n",
       "      <th>0</th>\n",
       "      <td>16.99</td>\n",
       "      <td>1.01</td>\n",
       "      <td>Female</td>\n",
       "      <td>No</td>\n",
       "      <td>Sun</td>\n",
       "      <td>Dinner</td>\n",
       "      <td>2</td>\n",
       "    </tr>\n",
       "    <tr>\n",
       "      <th>1</th>\n",
       "      <td>10.34</td>\n",
       "      <td>1.66</td>\n",
       "      <td>Male</td>\n",
       "      <td>No</td>\n",
       "      <td>Sun</td>\n",
       "      <td>Dinner</td>\n",
       "      <td>3</td>\n",
       "    </tr>\n",
       "    <tr>\n",
       "      <th>2</th>\n",
       "      <td>21.01</td>\n",
       "      <td>3.50</td>\n",
       "      <td>Male</td>\n",
       "      <td>No</td>\n",
       "      <td>Sun</td>\n",
       "      <td>Dinner</td>\n",
       "      <td>3</td>\n",
       "    </tr>\n",
       "    <tr>\n",
       "      <th>3</th>\n",
       "      <td>23.68</td>\n",
       "      <td>3.31</td>\n",
       "      <td>Male</td>\n",
       "      <td>No</td>\n",
       "      <td>Sun</td>\n",
       "      <td>Dinner</td>\n",
       "      <td>2</td>\n",
       "    </tr>\n",
       "    <tr>\n",
       "      <th>4</th>\n",
       "      <td>24.59</td>\n",
       "      <td>3.61</td>\n",
       "      <td>Female</td>\n",
       "      <td>No</td>\n",
       "      <td>Sun</td>\n",
       "      <td>Dinner</td>\n",
       "      <td>4</td>\n",
       "    </tr>\n",
       "    <tr>\n",
       "      <th>...</th>\n",
       "      <td>...</td>\n",
       "      <td>...</td>\n",
       "      <td>...</td>\n",
       "      <td>...</td>\n",
       "      <td>...</td>\n",
       "      <td>...</td>\n",
       "      <td>...</td>\n",
       "    </tr>\n",
       "    <tr>\n",
       "      <th>239</th>\n",
       "      <td>29.03</td>\n",
       "      <td>5.92</td>\n",
       "      <td>Male</td>\n",
       "      <td>No</td>\n",
       "      <td>Sat</td>\n",
       "      <td>Dinner</td>\n",
       "      <td>3</td>\n",
       "    </tr>\n",
       "    <tr>\n",
       "      <th>240</th>\n",
       "      <td>27.18</td>\n",
       "      <td>2.00</td>\n",
       "      <td>Female</td>\n",
       "      <td>Yes</td>\n",
       "      <td>Sat</td>\n",
       "      <td>Dinner</td>\n",
       "      <td>2</td>\n",
       "    </tr>\n",
       "    <tr>\n",
       "      <th>241</th>\n",
       "      <td>22.67</td>\n",
       "      <td>2.00</td>\n",
       "      <td>Male</td>\n",
       "      <td>Yes</td>\n",
       "      <td>Sat</td>\n",
       "      <td>Dinner</td>\n",
       "      <td>2</td>\n",
       "    </tr>\n",
       "    <tr>\n",
       "      <th>242</th>\n",
       "      <td>17.82</td>\n",
       "      <td>1.75</td>\n",
       "      <td>Male</td>\n",
       "      <td>No</td>\n",
       "      <td>Sat</td>\n",
       "      <td>Dinner</td>\n",
       "      <td>2</td>\n",
       "    </tr>\n",
       "    <tr>\n",
       "      <th>243</th>\n",
       "      <td>18.78</td>\n",
       "      <td>3.00</td>\n",
       "      <td>Female</td>\n",
       "      <td>No</td>\n",
       "      <td>Thur</td>\n",
       "      <td>Dinner</td>\n",
       "      <td>2</td>\n",
       "    </tr>\n",
       "  </tbody>\n",
       "</table>\n",
       "<p>244 rows × 7 columns</p>\n",
       "</div>"
      ],
      "text/plain": [
       "     total_bill   tip     sex smoker   day    time  size\n",
       "0         16.99  1.01  Female     No   Sun  Dinner     2\n",
       "1         10.34  1.66    Male     No   Sun  Dinner     3\n",
       "2         21.01  3.50    Male     No   Sun  Dinner     3\n",
       "3         23.68  3.31    Male     No   Sun  Dinner     2\n",
       "4         24.59  3.61  Female     No   Sun  Dinner     4\n",
       "..          ...   ...     ...    ...   ...     ...   ...\n",
       "239       29.03  5.92    Male     No   Sat  Dinner     3\n",
       "240       27.18  2.00  Female    Yes   Sat  Dinner     2\n",
       "241       22.67  2.00    Male    Yes   Sat  Dinner     2\n",
       "242       17.82  1.75    Male     No   Sat  Dinner     2\n",
       "243       18.78  3.00  Female     No  Thur  Dinner     2\n",
       "\n",
       "[244 rows x 7 columns]"
      ]
     },
     "execution_count": 2,
     "metadata": {},
     "output_type": "execute_result"
    }
   ],
   "source": [
    "# load dataset\n",
    "tips_df = pd.read_csv(\"tips.csv\")\n",
    "tips_df"
   ]
  },
  {
   "cell_type": "code",
   "execution_count": 3,
   "metadata": {},
   "outputs": [
    {
     "data": {
      "text/plain": [
       "'\\nParameters\\n----------\\nx, y, hue : names of variables in ``data`` or vector data, optional\\n    Inputs for plotting long-form data. See examples for interpretation.        \\ndata : DataFrame, array, or list of arrays, optional\\n    Dataset for plotting. If ``x`` and ``y`` are absent, this is\\n    interpreted as wide-form. Otherwise it is expected to be long-form.    \\norder, hue_order : lists of strings, optional\\n    Order to plot the categorical levels in, otherwise the levels are\\n    inferred from the data objects.        \\nestimator : callable that maps vector -> scalar, optional\\n    Statistical function to estimate within each categorical bin.\\nci : float or \"sd\" or None, optional\\n    Size of confidence intervals to draw around estimated values.  If\\n    \"sd\", skip bootstrapping and draw the standard deviation of the\\n    observations. If ``None``, no bootstrapping will be performed, and\\n    error bars will not be drawn.\\nn_boot : int, optional\\n    Number of bootstrap iterations to use when computing confidence\\n    intervals.\\nunits : name of variable in ``data`` or vector data, optional\\n    Identifier of sampling units, which will be used to perform a\\n    multilevel bootstrap and account for repeated measures design.    \\norient : \"v\" | \"h\", optional\\n    Orientation of the plot (vertical or horizontal). This is usually\\n    inferred from the dtype of the input variables, but can be used to\\n    specify when the \"categorical\" variable is a numeric or when plotting\\n    wide-form data.    \\ncolor : matplotlib color, optional\\n    Color for all of the elements, or seed for a gradient palette.    \\npalette : palette name, list, or dict, optional\\n    Colors to use for the different levels of the ``hue`` variable. Should\\n    be something that can be interpreted by :func:`color_palette`, or a\\n    dictionary mapping hue levels to matplotlib colors.    \\nsaturation : float, optional\\n    Proportion of the original saturation to draw colors at. Large patches\\n    often look better with slightly desaturated colors, but set this to\\n    ``1`` if you want the plot colors to perfectly match the input color\\n    spec.    \\nerrcolor : matplotlib color\\n    Color for the lines that represent the confidence interval.\\nerrwidth : float, optional\\n    Thickness of error bar lines (and caps).         \\ncapsize : float, optional\\n    Width of the \"caps\" on error bars.\\n\\ndodge : bool, optional\\n    When hue nesting is used, whether elements should be shifted along the\\n    categorical axis.    \\nax : matplotlib Axes, optional\\n    Axes object to draw the plot onto, otherwise uses the current Axes.    \\nkwargs : key, value mappings\\n    Other keyword arguments are passed through to ``plt.bar`` at draw\\n    time.\\n'"
      ]
     },
     "execution_count": 3,
     "metadata": {},
     "output_type": "execute_result"
    }
   ],
   "source": [
    "\"\"\"\n",
    "Parameters\n",
    "----------\n",
    "x, y, hue : names of variables in ``data`` or vector data, optional\n",
    "    Inputs for plotting long-form data. See examples for interpretation.        \n",
    "data : DataFrame, array, or list of arrays, optional\n",
    "    Dataset for plotting. If ``x`` and ``y`` are absent, this is\n",
    "    interpreted as wide-form. Otherwise it is expected to be long-form.    \n",
    "order, hue_order : lists of strings, optional\n",
    "    Order to plot the categorical levels in, otherwise the levels are\n",
    "    inferred from the data objects.        \n",
    "estimator : callable that maps vector -> scalar, optional\n",
    "    Statistical function to estimate within each categorical bin.\n",
    "ci : float or \"sd\" or None, optional\n",
    "    Size of confidence intervals to draw around estimated values.  If\n",
    "    \"sd\", skip bootstrapping and draw the standard deviation of the\n",
    "    observations. If ``None``, no bootstrapping will be performed, and\n",
    "    error bars will not be drawn.\n",
    "n_boot : int, optional\n",
    "    Number of bootstrap iterations to use when computing confidence\n",
    "    intervals.\n",
    "units : name of variable in ``data`` or vector data, optional\n",
    "    Identifier of sampling units, which will be used to perform a\n",
    "    multilevel bootstrap and account for repeated measures design.    \n",
    "orient : \"v\" | \"h\", optional\n",
    "    Orientation of the plot (vertical or horizontal). This is usually\n",
    "    inferred from the dtype of the input variables, but can be used to\n",
    "    specify when the \"categorical\" variable is a numeric or when plotting\n",
    "    wide-form data.    \n",
    "color : matplotlib color, optional\n",
    "    Color for all of the elements, or seed for a gradient palette.    \n",
    "palette : palette name, list, or dict, optional\n",
    "    Colors to use for the different levels of the ``hue`` variable. Should\n",
    "    be something that can be interpreted by :func:`color_palette`, or a\n",
    "    dictionary mapping hue levels to matplotlib colors.    \n",
    "saturation : float, optional\n",
    "    Proportion of the original saturation to draw colors at. Large patches\n",
    "    often look better with slightly desaturated colors, but set this to\n",
    "    ``1`` if you want the plot colors to perfectly match the input color\n",
    "    spec.    \n",
    "errcolor : matplotlib color\n",
    "    Color for the lines that represent the confidence interval.\n",
    "errwidth : float, optional\n",
    "    Thickness of error bar lines (and caps).         \n",
    "capsize : float, optional\n",
    "    Width of the \"caps\" on error bars.\n",
    "\n",
    "dodge : bool, optional\n",
    "    When hue nesting is used, whether elements should be shifted along the\n",
    "    categorical axis.    \n",
    "ax : matplotlib Axes, optional\n",
    "    Axes object to draw the plot onto, otherwise uses the current Axes.    \n",
    "kwargs : key, value mappings\n",
    "    Other keyword arguments are passed through to ``plt.bar`` at draw\n",
    "    time.\n",
    "\"\"\""
   ]
  },
  {
   "cell_type": "code",
   "execution_count": 4,
   "metadata": {},
   "outputs": [
    {
     "data": {
      "text/plain": [
       "<AxesSubplot:xlabel='day', ylabel='total_bill'>"
      ]
     },
     "execution_count": 4,
     "metadata": {},
     "output_type": "execute_result"
    },
    {
     "data": {
      "image/png": "[encoded data removed]",
      "text/plain": [
       "<Figure size 432x288 with 1 Axes>"
      ]
     },
     "metadata": {
      "needs_background": "light"
     },
     "output_type": "display_data"
    }
   ],
   "source": [
    "# Keyword Arguments parameter\n",
    "kwargs = {'alpha':0.9, 'linestyle':':', 'linewidth':5, 'edgecolor':'k'}\n",
    "\n",
    "sns.barplot(x = 'day', y = 'total_bill', hue = 'sex',\n",
    "           data = tips_df,**kwargs)"
   ]
  },
  {
   "cell_type": "code",
   "execution_count": 5,
   "metadata": {},
   "outputs": [
    {
     "data": {
      "image/png": "[encoded data removed]",
      "text/plain": [
       "<Figure size 1152x648 with 1 Axes>"
      ]
     },
     "metadata": {
      "needs_background": "light"
     },
     "output_type": "display_data"
    }
   ],
   "source": [
    "# Example of Seaborn Barplot\n",
    "plt.figure(figsize = (16,9))\n",
    "\n",
    "sns.barplot(x = 'day', y = 'total_bill', \n",
    "           data = tips_df, alpha =1, linestyle = \"-.\", linewidth = 3,\n",
    "           edgecolor = \"k\")\n",
    "\n",
    "plt.title(\"Barplot of Days and Total Bill\", fontsize = 20)\n",
    "plt.xlabel(\"Days\", fontsize = 15)\n",
    "plt.ylabel(\"Total Bill\", fontsize = 15)\n",
    "\n",
    "plt.savefig(\"Barplot of Days and Total Bill\")\n",
    "plt.show()"
   ]
  }
 ],
 "metadata": {
  "kernelspec": {
   "display_name": "Python 3",
   "language": "python",
   "name": "python3"
  },
  "language_info": {
   "codemirror_mode": {
    "name": "ipython",
    "version": 3
   },
   "file_extension": ".py",
   "mimetype": "text/x-python",
   "name": "python",
   "nbconvert_exporter": "python",
   "pygments_lexer": "ipython3",
   "version": "3.8.5"
  }
 },
 "nbformat": 4,
 "nbformat_minor": 2
}
